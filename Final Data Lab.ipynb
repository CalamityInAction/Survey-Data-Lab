{
 "cells": [
  {
   "cell_type": "code",
   "execution_count": 1,
   "id": "eb5811d1",
   "metadata": {},
   "outputs": [],
   "source": [
    "import pandas as pd\n",
    "import numpy as np\n",
    "import matplotlib as plt\n",
    "from scipy.stats import norm"
   ]
  },
  {
   "cell_type": "code",
   "execution_count": 2,
   "id": "dbf54dfd",
   "metadata": {},
   "outputs": [],
   "source": [
    "file = 'drug-use-by-age.csv'\n",
    "df = pd.read_csv(file)"
   ]
  },
  {
   "cell_type": "code",
   "execution_count": 3,
   "id": "a81ca84c",
   "metadata": {},
   "outputs": [
    {
     "name": "stdout",
     "output_type": "stream",
     "text": [
      "       marijuana-frequency\n",
      "age                       \n",
      "12                     4.0\n",
      "13                    15.0\n",
      "14                    24.0\n",
      "15                    25.0\n",
      "16                    30.0\n",
      "17                    36.0\n",
      "18                    52.0\n",
      "19                    60.0\n",
      "20                    60.0\n",
      "21                    52.0\n",
      "22-23                 52.0\n",
      "24-25                 60.0\n",
      "26-29                 52.0\n",
      "30-34                 72.0\n",
      "35-49                 48.0\n",
      "50-64                 52.0\n",
      "65+                   36.0\n"
     ]
    }
   ],
   "source": [
    "#mean of marijuana frequency by age\n",
    "marifreq_mean = df.groupby('age')[['marijuana-frequency']].mean()\n",
    "print(marifreq_mean)"
   ]
  },
  {
   "cell_type": "code",
   "execution_count": 4,
   "id": "2475d208",
   "metadata": {},
   "outputs": [
    {
     "data": {
      "text/plain": [
       "<AxesSubplot:title={'center':'Marijuana Frequency by Age'}, xlabel='Age', ylabel='Median of individual marijuana usage'>"
      ]
     },
     "execution_count": 4,
     "metadata": {},
     "output_type": "execute_result"
    },
    {
     "data": {
      "image/png": "[encoded data removed]",
      "text/plain": [
       "<Figure size 432x288 with 1 Axes>"
      ]
     },
     "metadata": {
      "needs_background": "light"
     },
     "output_type": "display_data"
    }
   ],
   "source": [
    "marifreq_mean.plot(kind = 'bar', title = 'Marijuana Frequency by Age', ylabel = 'Median of individual marijuana usage', xlabel = 'Age', color = (0.91015625, 0.3671875, 0.65234375))"
   ]
  },
  {
   "cell_type": "code",
   "execution_count": 5,
   "id": "056a4be3",
   "metadata": {},
   "outputs": [],
   "source": [
    "file = 'drug-use-by-age.csv'\n",
    "df = pd.read_csv(file)"
   ]
  },
  {
   "cell_type": "code",
   "execution_count": 6,
   "id": "c8adb125",
   "metadata": {},
   "outputs": [],
   "source": [
    "df = df.drop([9, 10, 11, 12, 13, 14, 15, 16])"
   ]
  },
  {
   "cell_type": "code",
   "execution_count": 7,
   "id": "c296de7b",
   "metadata": {},
   "outputs": [
    {
     "name": "stdout",
     "output_type": "stream",
     "text": [
      "     alcohol-use\n",
      "age             \n",
      "12           3.9\n",
      "13           8.5\n",
      "14          18.1\n",
      "15          29.2\n",
      "16          40.1\n",
      "17          49.3\n",
      "18          58.7\n",
      "19          64.6\n",
      "20          69.7\n"
     ]
    },
    {
     "data": {
      "text/plain": [
       "<AxesSubplot:title={'center':'Underage Alcohol Usage'}, xlabel='Age', ylabel='Alcohol Users'>"
      ]
     },
     "execution_count": 7,
     "metadata": {},
     "output_type": "execute_result"
    },
    {
     "data": {
      "image/png": "[encoded data removed]",
      "text/plain": [
       "<Figure size 432x288 with 1 Axes>"
      ]
     },
     "metadata": {
      "needs_background": "light"
     },
     "output_type": "display_data"
    }
   ],
   "source": [
    "#mean alcohol usage by age\n",
    "alcohol_mean = df.groupby('age')[['alcohol-use']].mean()\n",
    "print(alcohol_mean)\n",
    "\n",
    "alcohol_mean.plot(kind = 'bar', title = 'Underage Alcohol Usage', ylabel = 'Alcohol Users', xlabel = 'Age', color = (0.546875, 0.15625, 0.82421875, 0.74))\n",
    "\n",
    "\n",
    "#Attempt to add a line of best fit\n",
    "    #x_axis = np.arange(12, 28, 1)\n",
    "    #mean = 38.0111111111\n",
    "    #sd = 23.044760525\n",
    "\n",
    "    #alcohol_mean.plot(x_axis, norm.pdf(x_axis, mean, sd))"
   ]
  },
  {
   "cell_type": "code",
   "execution_count": 8,
   "id": "ab73c100",
   "metadata": {},
   "outputs": [
    {
     "data": {
      "text/html": [
       "<div>\n",
       "<style scoped>\n",
       "    .dataframe tbody tr th:only-of-type {\n",
       "        vertical-align: middle;\n",
       "    }\n",
       "\n",
       "    .dataframe tbody tr th {\n",
       "        vertical-align: top;\n",
       "    }\n",
       "\n",
       "    .dataframe thead th {\n",
       "        text-align: right;\n",
       "    }\n",
       "</style>\n",
       "<table border=\"1\" class=\"dataframe\">\n",
       "  <thead>\n",
       "    <tr style=\"text-align: right;\">\n",
       "      <th></th>\n",
       "      <th>age</th>\n",
       "      <th>n</th>\n",
       "      <th>alcohol-use</th>\n",
       "      <th>alcohol-frequency</th>\n",
       "      <th>marijuana-use</th>\n",
       "      <th>marijuana-frequency</th>\n",
       "      <th>cocaine-use</th>\n",
       "      <th>cocaine-frequency</th>\n",
       "      <th>crack-use</th>\n",
       "      <th>crack-frequency</th>\n",
       "      <th>...</th>\n",
       "      <th>oxycontin-use</th>\n",
       "      <th>oxycontin-frequency</th>\n",
       "      <th>tranquilizer-use</th>\n",
       "      <th>tranquilizer-frequency</th>\n",
       "      <th>stimulant-use</th>\n",
       "      <th>stimulant-frequency</th>\n",
       "      <th>meth-use</th>\n",
       "      <th>meth-frequency</th>\n",
       "      <th>sedative-use</th>\n",
       "      <th>sedative-frequency</th>\n",
       "    </tr>\n",
       "  </thead>\n",
       "  <tbody>\n",
       "    <tr>\n",
       "      <th>16</th>\n",
       "      <td>65+</td>\n",
       "      <td>2448</td>\n",
       "      <td>49.3</td>\n",
       "      <td>52.0</td>\n",
       "      <td>1.2</td>\n",
       "      <td>36.0</td>\n",
       "      <td>0.0</td>\n",
       "      <td>-</td>\n",
       "      <td>0.0</td>\n",
       "      <td>-</td>\n",
       "      <td>...</td>\n",
       "      <td>0.0</td>\n",
       "      <td>-</td>\n",
       "      <td>0.2</td>\n",
       "      <td>5.0</td>\n",
       "      <td>0.0</td>\n",
       "      <td>364.0</td>\n",
       "      <td>0.0</td>\n",
       "      <td>-</td>\n",
       "      <td>0.0</td>\n",
       "      <td>15.0</td>\n",
       "    </tr>\n",
       "    <tr>\n",
       "      <th>15</th>\n",
       "      <td>50-64</td>\n",
       "      <td>3923</td>\n",
       "      <td>67.2</td>\n",
       "      <td>52.0</td>\n",
       "      <td>7.3</td>\n",
       "      <td>52.0</td>\n",
       "      <td>0.9</td>\n",
       "      <td>36.0</td>\n",
       "      <td>0.4</td>\n",
       "      <td>62.0</td>\n",
       "      <td>...</td>\n",
       "      <td>0.4</td>\n",
       "      <td>5.0</td>\n",
       "      <td>1.4</td>\n",
       "      <td>10.0</td>\n",
       "      <td>0.3</td>\n",
       "      <td>24.0</td>\n",
       "      <td>0.2</td>\n",
       "      <td>30.0</td>\n",
       "      <td>0.2</td>\n",
       "      <td>104.0</td>\n",
       "    </tr>\n",
       "    <tr>\n",
       "      <th>14</th>\n",
       "      <td>35-49</td>\n",
       "      <td>7391</td>\n",
       "      <td>75.0</td>\n",
       "      <td>52.0</td>\n",
       "      <td>10.4</td>\n",
       "      <td>48.0</td>\n",
       "      <td>1.5</td>\n",
       "      <td>15.0</td>\n",
       "      <td>0.5</td>\n",
       "      <td>48.0</td>\n",
       "      <td>...</td>\n",
       "      <td>0.3</td>\n",
       "      <td>12.0</td>\n",
       "      <td>1.9</td>\n",
       "      <td>6.0</td>\n",
       "      <td>0.6</td>\n",
       "      <td>24.0</td>\n",
       "      <td>0.2</td>\n",
       "      <td>104.0</td>\n",
       "      <td>0.3</td>\n",
       "      <td>10.0</td>\n",
       "    </tr>\n",
       "    <tr>\n",
       "      <th>13</th>\n",
       "      <td>30-34</td>\n",
       "      <td>2864</td>\n",
       "      <td>77.5</td>\n",
       "      <td>52.0</td>\n",
       "      <td>16.4</td>\n",
       "      <td>72.0</td>\n",
       "      <td>2.1</td>\n",
       "      <td>8.0</td>\n",
       "      <td>0.5</td>\n",
       "      <td>15.0</td>\n",
       "      <td>...</td>\n",
       "      <td>0.9</td>\n",
       "      <td>46.0</td>\n",
       "      <td>3.6</td>\n",
       "      <td>8.0</td>\n",
       "      <td>1.4</td>\n",
       "      <td>12.0</td>\n",
       "      <td>0.4</td>\n",
       "      <td>54.0</td>\n",
       "      <td>0.4</td>\n",
       "      <td>10.0</td>\n",
       "    </tr>\n",
       "  </tbody>\n",
       "</table>\n",
       "<p>4 rows × 28 columns</p>\n",
       "</div>"
      ],
      "text/plain": [
       "      age     n  alcohol-use  alcohol-frequency  marijuana-use  \\\n",
       "16    65+  2448         49.3               52.0            1.2   \n",
       "15  50-64  3923         67.2               52.0            7.3   \n",
       "14  35-49  7391         75.0               52.0           10.4   \n",
       "13  30-34  2864         77.5               52.0           16.4   \n",
       "\n",
       "    marijuana-frequency  cocaine-use cocaine-frequency  crack-use  \\\n",
       "16                 36.0          0.0                 -        0.0   \n",
       "15                 52.0          0.9              36.0        0.4   \n",
       "14                 48.0          1.5              15.0        0.5   \n",
       "13                 72.0          2.1               8.0        0.5   \n",
       "\n",
       "   crack-frequency  ...  oxycontin-use oxycontin-frequency  tranquilizer-use  \\\n",
       "16               -  ...            0.0                   -               0.2   \n",
       "15            62.0  ...            0.4                 5.0               1.4   \n",
       "14            48.0  ...            0.3                12.0               1.9   \n",
       "13            15.0  ...            0.9                46.0               3.6   \n",
       "\n",
       "    tranquilizer-frequency  stimulant-use stimulant-frequency  meth-use  \\\n",
       "16                     5.0            0.0               364.0       0.0   \n",
       "15                    10.0            0.3                24.0       0.2   \n",
       "14                     6.0            0.6                24.0       0.2   \n",
       "13                     8.0            1.4                12.0       0.4   \n",
       "\n",
       "    meth-frequency  sedative-use sedative-frequency  \n",
       "16               -           0.0               15.0  \n",
       "15            30.0           0.2              104.0  \n",
       "14           104.0           0.3               10.0  \n",
       "13            54.0           0.4               10.0  \n",
       "\n",
       "[4 rows x 28 columns]"
      ]
     },
     "execution_count": 8,
     "metadata": {},
     "output_type": "execute_result"
    }
   ],
   "source": [
    "file = 'drug-use-by-age.csv'\n",
    "df = pd.read_csv(file)\n",
    "df = df[::-1]\n",
    "df = df[:4]\n",
    "df.head()"
   ]
  },
  {
   "cell_type": "code",
   "execution_count": 9,
   "id": "fd7d81ae",
   "metadata": {},
   "outputs": [
    {
     "data": {
      "text/plain": [
       "<AxesSubplot:title={'center':'Tricenarians Tripping Out [Median Quantity]'}, ylabel='Age'>"
      ]
     },
     "execution_count": 9,
     "metadata": {},
     "output_type": "execute_result"
    },
    {
     "data": {
      "image/png": "[encoded data removed]",
      "text/plain": [
       "<Figure size 432x288 with 1 Axes>"
      ]
     },
     "metadata": {
      "needs_background": "light"
     },
     "output_type": "display_data"
    }
   ],
   "source": [
    "tricenarians_tripping_out = df.groupby('age')['hallucinogen-frequency'].mean()\n",
    "tricenarians_tripping_out.plot(kind = 'barh', title = 'Tricenarians Tripping Out [Median Quantity]', ylabel = 'Oldies Getting High on Hallucinagens', xlabel = 'Age', color = (0.5, 0.5, 0.9), rot=0)"
   ]
  }
 ],
 "metadata": {
  "kernelspec": {
   "display_name": "Python 3 (ipykernel)",
   "language": "python",
   "name": "python3"
  },
  "language_info": {
   "codemirror_mode": {
    "name": "ipython",
    "version": 3
   },
   "file_extension": ".py",
   "mimetype": "text/x-python",
   "name": "python",
   "nbconvert_exporter": "python",
   "pygments_lexer": "ipython3",
   "version": "3.9.12"
  }
 },
 "nbformat": 4,
 "nbformat_minor": 5
}
