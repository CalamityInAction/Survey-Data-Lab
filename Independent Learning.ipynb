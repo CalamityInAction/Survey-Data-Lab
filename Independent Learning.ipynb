{
 "cells": [
  {
   "cell_type": "code",
   "execution_count": 1,
   "id": "50737022",
   "metadata": {},
   "outputs": [
    {
     "data": {
      "text/plain": [
       "[25, 61, 235, 534, 3045, 9076]"
      ]
     },
     "execution_count": 1,
     "metadata": {},
     "output_type": "execute_result"
    }
   ],
   "source": [
    "import numpy as np\n",
    "\n",
    "def selection_sort(x):\n",
    "    for i in range(len(x)):\n",
    "        swap = i + np.argmin(x[i:])\n",
    "        (x[i], x[swap]) = (x[swap], x[i])\n",
    "        #it sorts one datum with the minimum unless the minimum is at the beginning of the list, and the rest follows\n",
    "    return x\n",
    "\n",
    "selection_sort([534, 25, 61, 235, 9076, 3045])"
   ]
  },
  {
   "cell_type": "code",
   "execution_count": 2,
   "id": "6a9942b6",
   "metadata": {},
   "outputs": [
    {
     "name": "stdout",
     "output_type": "stream",
     "text": [
      "I both learned the basics of sorting algorithms (from the textbook) and the way to splice array data in the pandas library (pandas website). I learned the basic methods to rearrange array elements into selection or sorting, which is far more efficient than manually inputting values.\n"
     ]
    }
   ],
   "source": [
    "print('I both learned the basics of sorting algorithms (from the textbook) and the way to splice array data in the pandas library (pandas website). I learned the basic methods to rearrange array elements into selection or sorting, which is far more efficient than manually inputting values.') "
   ]
  }
 ],
 "metadata": {
  "kernelspec": {
   "display_name": "Python 3 (ipykernel)",
   "language": "python",
   "name": "python3"
  },
  "language_info": {
   "codemirror_mode": {
    "name": "ipython",
    "version": 3
   },
   "file_extension": ".py",
   "mimetype": "text/x-python",
   "name": "python",
   "nbconvert_exporter": "python",
   "pygments_lexer": "ipython3",
   "version": "3.9.12"
  }
 },
 "nbformat": 4,
 "nbformat_minor": 5
}
